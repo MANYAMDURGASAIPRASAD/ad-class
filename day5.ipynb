{
 "cells": [
  {
   "cell_type": "code",
   "execution_count": null,
   "id": "febd56ed-c96a-4814-b16e-ca321f1630ad",
   "metadata": {},
   "outputs": [
    {
     "name": "stdout",
     "output_type": "stream",
     "text": [
      "I am listening, please speak.\n",
      "I am listening, please speak.\n"
     ]
    }
   ],
   "source": [
    "import pyttsx3\n",
    "import speech_recognition as sr\n",
    "\n",
    "engine = pyttsx3.init()\n",
    "\n",
    "def speak(text):\n",
    "    \"\"\"Make the assistant speak.\"\"\"\n",
    "    engine.say(text)\n",
    "    engine.runAndWait()\n",
    "\n",
    "def listen():\n",
    "    \"\"\"Listen to the user's voice command.\"\"\"\n",
    "    recognizer = sr.Recognizer()\n",
    "    with sr.Microphone() as source:\n",
    "        print(\"I am listening, please speak.\")\n",
    "        audio = recognizer.listen(source)\n",
    "        try:\n",
    "            command = recognizer.recognize_google(audio)\n",
    "            return command.lower()  # Convert to lowercase for consistency\n",
    "        except sr.UnknownValueError:\n",
    "            speak(\"Sorry, I did not understand that. Please try again.\")\n",
    "            return \"\"\n",
    "        except sr.RequestError:\n",
    "            speak(\"Sorry, my speech service is down. Please try again later.\")\n",
    "            return \"\"\n",
    "\n",
    "def main():\n",
    "    \"\"\"Main function to run the voice bot\"\"\"\n",
    "    speak(\"Hello! I am your simple bot from Mallareddy College. You can say hello, ask my name, or say goodbye.\")\n",
    "    while True:\n",
    "        command = listen()\n",
    "        if \"hello\" in command:\n",
    "            speak(\"Hi there! Welcome to Mallareddy University College.\")\n",
    "        elif \"what's your name\" in command or \"what is your name\" in command:\n",
    "            speak(\"My name is Simple Bot from Mallareddy College.\")\n",
    "        elif \"goodbye\" in command:\n",
    "            speak(\"Goodbye! Have a great day at Mallareddy College.\")\n",
    "            break  # Exit the loop on \"goodbye\"\n",
    "        elif command:\n",
    "            speak(\"I didn't understand that. Please try again.\")\n",
    "        \n",
    "if __name__ == \"__main__\":\n",
    "    main()"
   ]
  },
  {
   "cell_type": "code",
   "execution_count": null,
   "id": "a0a161c5-ff8e-4c15-8381-41fc174a0377",
   "metadata": {},
   "outputs": [],
   "source": []
  }
 ],
 "metadata": {
  "kernelspec": {
   "display_name": "Python 3 (ipykernel)",
   "language": "python",
   "name": "python3"
  },
  "language_info": {
   "codemirror_mode": {
    "name": "ipython",
    "version": 3
   },
   "file_extension": ".py",
   "mimetype": "text/x-python",
   "name": "python",
   "nbconvert_exporter": "python",
   "pygments_lexer": "ipython3",
   "version": "3.12.4"
  }
 },
 "nbformat": 4,
 "nbformat_minor": 5
}
