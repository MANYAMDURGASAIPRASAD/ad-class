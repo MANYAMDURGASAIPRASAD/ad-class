{
 "cells": [
  {
   "cell_type": "markdown",
   "id": "1673cd5c-64ef-42ae-b33a-bad32b276bfd",
   "metadata": {},
   "source": [
    "## regular expression"
   ]
  },
  {
   "cell_type": "code",
   "execution_count": 13,
   "id": "891bbda6-28b1-448b-b2a4-23000b764070",
   "metadata": {},
   "outputs": [
    {
     "name": "stdout",
     "output_type": "stream",
     "text": [
      "i am going to movie tonight\n"
     ]
    }
   ],
   "source": [
    "print(\"i am going to movie tonight\")"
   ]
  },
  {
   "cell_type": "code",
   "execution_count": 3,
   "id": "2cd298b0-591d-429c-b03a-4fa9a3324b1c",
   "metadata": {},
   "outputs": [
    {
     "name": "stdout",
     "output_type": "stream",
     "text": [
      "i am going \n",
      "to movie \ttonight\n"
     ]
    }
   ],
   "source": [
    "print(\"i am going \\nto movie \\ttonight\")"
   ]
  },
  {
   "cell_type": "code",
   "execution_count": 5,
   "id": "0a308dd0-0a33-4d69-98c6-7c8fca71fbe5",
   "metadata": {},
   "outputs": [
    {
     "name": "stdout",
     "output_type": "stream",
     "text": [
      "movie tonight \n"
     ]
    }
   ],
   "source": [
    "print(\"i am going to \\rmovie tonight\")"
   ]
  },
  {
   "cell_type": "code",
   "execution_count": 7,
   "id": "c8667781-0a9e-45f7-aa9a-519006b924b2",
   "metadata": {},
   "outputs": [],
   "source": [
    "import re"
   ]
  },
  {
   "cell_type": "code",
   "execution_count": 9,
   "id": "e5613051-01df-4488-9735-737d10c95e5e",
   "metadata": {},
   "outputs": [
    {
     "data": {
      "text/plain": [
       "'0'"
      ]
     },
     "execution_count": 9,
     "metadata": {},
     "output_type": "execute_result"
    }
   ],
   "source": [
    "import re\n",
    "pattern=r'\\d'\n",
    "string=\"007 james bond want to learn the python\"\n",
    "matching=re.match(pattern,string)\n",
    "matching.group()"
   ]
  },
  {
   "cell_type": "code",
   "execution_count": 11,
   "id": "316c4c34-dbab-4c07-8e3f-2612ed8e521a",
   "metadata": {},
   "outputs": [
    {
     "data": {
      "text/plain": [
       "'007'"
      ]
     },
     "execution_count": 11,
     "metadata": {},
     "output_type": "execute_result"
    }
   ],
   "source": [
    "import re\n",
    "pattern=r'\\d+'\n",
    "string=\"007 james bond want to learn the python\"\n",
    "matching=re.match(pattern,string)\n",
    "matching.group()"
   ]
  },
  {
   "cell_type": "code",
   "execution_count": 17,
   "id": "0a10add8-e578-4b78-872d-65bf474a0d38",
   "metadata": {},
   "outputs": [
    {
     "ename": "AttributeError",
     "evalue": "'NoneType' object has no attribute 'group'",
     "output_type": "error",
     "traceback": [
      "\u001b[1;31m---------------------------------------------------------------------------\u001b[0m",
      "\u001b[1;31mAttributeError\u001b[0m                            Traceback (most recent call last)",
      "Cell \u001b[1;32mIn[17], line 5\u001b[0m\n\u001b[0;32m      3\u001b[0m string\u001b[38;5;241m=\u001b[39m\u001b[38;5;124m\"\u001b[39m\u001b[38;5;124m james bond want 007 to learn the python\u001b[39m\u001b[38;5;124m\"\u001b[39m\n\u001b[0;32m      4\u001b[0m matching\u001b[38;5;241m=\u001b[39mre\u001b[38;5;241m.\u001b[39mmatch(pattern,string)\n\u001b[1;32m----> 5\u001b[0m \u001b[43mmatching\u001b[49m\u001b[38;5;241;43m.\u001b[39;49m\u001b[43mgroup\u001b[49m()\n",
      "\u001b[1;31mAttributeError\u001b[0m: 'NoneType' object has no attribute 'group'"
     ]
    }
   ],
   "source": [
    "import re\n",
    "pattern=r'\\d+'\n",
    "string=\" james bond want 007 to learn the python\"# it only match staring numbers in sentence\n",
    "matching=re.match(pattern,string)\n",
    "matching.group()\n"
   ]
  },
  {
   "cell_type": "markdown",
   "id": "83313ef3-2b10-49b3-90f4-f234633afe4c",
   "metadata": {},
   "source": [
    "## re.search"
   ]
  },
  {
   "cell_type": "code",
   "execution_count": 29,
   "id": "c7d43da9-5040-4dd4-943a-21dcca431488",
   "metadata": {},
   "outputs": [
    {
     "data": {
      "text/plain": [
       "'007'"
      ]
     },
     "execution_count": 29,
     "metadata": {},
     "output_type": "execute_result"
    }
   ],
   "source": [
    "#re.search()\n",
    "import re\n",
    "pattern=r'\\d+'\n",
    "string=\" james bond want 007 to learn the python\"# it only match staring numbers in sentence\n",
    "matching=re.search(pattern,string)\n",
    "matching.group()"
   ]
  },
  {
   "cell_type": "markdown",
   "id": "f98ad56e-e52c-4596-a316-15c51b95b2ae",
   "metadata": {},
   "source": [
    "## re.findall()"
   ]
  },
  {
   "cell_type": "code",
   "execution_count": 34,
   "id": "1ce37d44-a20f-48f3-9f12-f30bfe1a4f37",
   "metadata": {},
   "outputs": [
    {
     "data": {
      "text/plain": [
       "['007', '008']"
      ]
     },
     "execution_count": 34,
     "metadata": {},
     "output_type": "execute_result"
    }
   ],
   "source": [
    "import re\n",
    "pattern=r'\\d+'\n",
    "string=\"james bond 007 want to learn 008 the python\"\n",
    "matching=re.findall(pattern,string)\n",
    "matching"
   ]
  },
  {
   "cell_type": "markdown",
   "id": "4c602eeb-bec1-4f1c-b7d3-520904fd5491",
   "metadata": {},
   "source": [
    "## re.sub()"
   ]
  },
  {
   "cell_type": "code",
   "execution_count": 43,
   "id": "e6d63e4c-a3bd-4ad2-a33f-7848d012f049",
   "metadata": {},
   "outputs": [
    {
     "data": {
      "text/plain": [
       "'james bond *** want to learn *** the python'"
      ]
     },
     "execution_count": 43,
     "metadata": {},
     "output_type": "execute_result"
    }
   ],
   "source": [
    "#it is used to change in a particular position\n",
    "\n",
    "import re\n",
    "pattern=r'\\d'\n",
    "string=\"james bond 007 want to learn 008 the python\"\n",
    "matching=re.sub(pattern,\"*\",string)\n",
    "matching"
   ]
  },
  {
   "cell_type": "code",
   "execution_count": null,
   "id": "014e1b24-5039-471a-8690-388b129fde99",
   "metadata": {},
   "outputs": [],
   "source": []
  }
 ],
 "metadata": {
  "kernelspec": {
   "display_name": "Python 3 (ipykernel)",
   "language": "python",
   "name": "python3"
  },
  "language_info": {
   "codemirror_mode": {
    "name": "ipython",
    "version": 3
   },
   "file_extension": ".py",
   "mimetype": "text/x-python",
   "name": "python",
   "nbconvert_exporter": "python",
   "pygments_lexer": "ipython3",
   "version": "3.12.4"
  }
 },
 "nbformat": 4,
 "nbformat_minor": 5
}
